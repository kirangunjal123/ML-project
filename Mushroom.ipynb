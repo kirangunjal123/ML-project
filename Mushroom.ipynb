{
 "cells": [
  {
   "cell_type": "markdown",
   "id": "10b3bfad",
   "metadata": {},
   "source": [
    "## Mushroom Classification-Safe to eat or deadly poison?\n",
    "What types of machine learning models perform best on this dataset?\n",
    "Which features are most indicative of a poisonous mushroom?\n",
    "Each species is identified as definitely edible, definitely poisonous, or of unknown edibility and not recommended. This latter class was combined with the poisonous one. \n",
    "https://www.kaggle.com/uciml/mushroom-classification"
   ]
  },
  {
   "cell_type": "markdown",
   "id": "f929c75b",
   "metadata": {},
   "source": [
    "### Import Libraries"
   ]
  },
  {
   "cell_type": "code",
   "execution_count": 1,
   "id": "7b0c82bb",
   "metadata": {},
   "outputs": [],
   "source": [
    "import pandas as pd\n",
    "import numpy as np\n",
    "import seaborn as  sns\n",
    "import matplotlib.pyplot as plt \n",
    "from sklearn.metrics import accuracy_score"
   ]
  },
  {
   "cell_type": "markdown",
   "id": "02c4aa4a",
   "metadata": {},
   "source": [
    "### Import Dataset"
   ]
  },
  {
   "cell_type": "code",
   "execution_count": 2,
   "id": "b477a5ed",
   "metadata": {},
   "outputs": [
    {
     "data": {
      "text/html": [
       "<div>\n",
       "<style scoped>\n",
       "    .dataframe tbody tr th:only-of-type {\n",
       "        vertical-align: middle;\n",
       "    }\n",
       "\n",
       "    .dataframe tbody tr th {\n",
       "        vertical-align: top;\n",
       "    }\n",
       "\n",
       "    .dataframe thead th {\n",
       "        text-align: right;\n",
       "    }\n",
       "</style>\n",
       "<table border=\"1\" class=\"dataframe\">\n",
       "  <thead>\n",
       "    <tr style=\"text-align: right;\">\n",
       "      <th></th>\n",
       "      <th>class</th>\n",
       "      <th>cap-shape</th>\n",
       "      <th>cap-surface</th>\n",
       "      <th>cap-color</th>\n",
       "      <th>bruises</th>\n",
       "      <th>odor</th>\n",
       "      <th>gill-attachment</th>\n",
       "      <th>gill-spacing</th>\n",
       "      <th>gill-size</th>\n",
       "      <th>gill-color</th>\n",
       "      <th>...</th>\n",
       "      <th>stalk-surface-below-ring</th>\n",
       "      <th>stalk-color-above-ring</th>\n",
       "      <th>stalk-color-below-ring</th>\n",
       "      <th>veil-type</th>\n",
       "      <th>veil-color</th>\n",
       "      <th>ring-number</th>\n",
       "      <th>ring-type</th>\n",
       "      <th>spore-print-color</th>\n",
       "      <th>population</th>\n",
       "      <th>habitat</th>\n",
       "    </tr>\n",
       "  </thead>\n",
       "  <tbody>\n",
       "    <tr>\n",
       "      <th>0</th>\n",
       "      <td>p</td>\n",
       "      <td>x</td>\n",
       "      <td>s</td>\n",
       "      <td>n</td>\n",
       "      <td>t</td>\n",
       "      <td>p</td>\n",
       "      <td>f</td>\n",
       "      <td>c</td>\n",
       "      <td>n</td>\n",
       "      <td>k</td>\n",
       "      <td>...</td>\n",
       "      <td>s</td>\n",
       "      <td>w</td>\n",
       "      <td>w</td>\n",
       "      <td>p</td>\n",
       "      <td>w</td>\n",
       "      <td>o</td>\n",
       "      <td>p</td>\n",
       "      <td>k</td>\n",
       "      <td>s</td>\n",
       "      <td>u</td>\n",
       "    </tr>\n",
       "    <tr>\n",
       "      <th>1</th>\n",
       "      <td>e</td>\n",
       "      <td>x</td>\n",
       "      <td>s</td>\n",
       "      <td>y</td>\n",
       "      <td>t</td>\n",
       "      <td>a</td>\n",
       "      <td>f</td>\n",
       "      <td>c</td>\n",
       "      <td>b</td>\n",
       "      <td>k</td>\n",
       "      <td>...</td>\n",
       "      <td>s</td>\n",
       "      <td>w</td>\n",
       "      <td>w</td>\n",
       "      <td>p</td>\n",
       "      <td>w</td>\n",
       "      <td>o</td>\n",
       "      <td>p</td>\n",
       "      <td>n</td>\n",
       "      <td>n</td>\n",
       "      <td>g</td>\n",
       "    </tr>\n",
       "    <tr>\n",
       "      <th>2</th>\n",
       "      <td>e</td>\n",
       "      <td>b</td>\n",
       "      <td>s</td>\n",
       "      <td>w</td>\n",
       "      <td>t</td>\n",
       "      <td>l</td>\n",
       "      <td>f</td>\n",
       "      <td>c</td>\n",
       "      <td>b</td>\n",
       "      <td>n</td>\n",
       "      <td>...</td>\n",
       "      <td>s</td>\n",
       "      <td>w</td>\n",
       "      <td>w</td>\n",
       "      <td>p</td>\n",
       "      <td>w</td>\n",
       "      <td>o</td>\n",
       "      <td>p</td>\n",
       "      <td>n</td>\n",
       "      <td>n</td>\n",
       "      <td>m</td>\n",
       "    </tr>\n",
       "    <tr>\n",
       "      <th>3</th>\n",
       "      <td>p</td>\n",
       "      <td>x</td>\n",
       "      <td>y</td>\n",
       "      <td>w</td>\n",
       "      <td>t</td>\n",
       "      <td>p</td>\n",
       "      <td>f</td>\n",
       "      <td>c</td>\n",
       "      <td>n</td>\n",
       "      <td>n</td>\n",
       "      <td>...</td>\n",
       "      <td>s</td>\n",
       "      <td>w</td>\n",
       "      <td>w</td>\n",
       "      <td>p</td>\n",
       "      <td>w</td>\n",
       "      <td>o</td>\n",
       "      <td>p</td>\n",
       "      <td>k</td>\n",
       "      <td>s</td>\n",
       "      <td>u</td>\n",
       "    </tr>\n",
       "    <tr>\n",
       "      <th>4</th>\n",
       "      <td>e</td>\n",
       "      <td>x</td>\n",
       "      <td>s</td>\n",
       "      <td>g</td>\n",
       "      <td>f</td>\n",
       "      <td>n</td>\n",
       "      <td>f</td>\n",
       "      <td>w</td>\n",
       "      <td>b</td>\n",
       "      <td>k</td>\n",
       "      <td>...</td>\n",
       "      <td>s</td>\n",
       "      <td>w</td>\n",
       "      <td>w</td>\n",
       "      <td>p</td>\n",
       "      <td>w</td>\n",
       "      <td>o</td>\n",
       "      <td>e</td>\n",
       "      <td>n</td>\n",
       "      <td>a</td>\n",
       "      <td>g</td>\n",
       "    </tr>\n",
       "  </tbody>\n",
       "</table>\n",
       "<p>5 rows × 23 columns</p>\n",
       "</div>"
      ],
      "text/plain": [
       "  class cap-shape cap-surface cap-color bruises odor gill-attachment  \\\n",
       "0     p         x           s         n       t    p               f   \n",
       "1     e         x           s         y       t    a               f   \n",
       "2     e         b           s         w       t    l               f   \n",
       "3     p         x           y         w       t    p               f   \n",
       "4     e         x           s         g       f    n               f   \n",
       "\n",
       "  gill-spacing gill-size gill-color  ... stalk-surface-below-ring  \\\n",
       "0            c         n          k  ...                        s   \n",
       "1            c         b          k  ...                        s   \n",
       "2            c         b          n  ...                        s   \n",
       "3            c         n          n  ...                        s   \n",
       "4            w         b          k  ...                        s   \n",
       "\n",
       "  stalk-color-above-ring stalk-color-below-ring veil-type veil-color  \\\n",
       "0                      w                      w         p          w   \n",
       "1                      w                      w         p          w   \n",
       "2                      w                      w         p          w   \n",
       "3                      w                      w         p          w   \n",
       "4                      w                      w         p          w   \n",
       "\n",
       "  ring-number ring-type spore-print-color population habitat  \n",
       "0           o         p                 k          s       u  \n",
       "1           o         p                 n          n       g  \n",
       "2           o         p                 n          n       m  \n",
       "3           o         p                 k          s       u  \n",
       "4           o         e                 n          a       g  \n",
       "\n",
       "[5 rows x 23 columns]"
      ]
     },
     "execution_count": 2,
     "metadata": {},
     "output_type": "execute_result"
    }
   ],
   "source": [
    "df = pd.read_csv('mushrooms.csv')\n",
    "df.head()"
   ]
  },
  {
   "cell_type": "code",
   "execution_count": 3,
   "id": "3260d6cc",
   "metadata": {},
   "outputs": [
    {
     "data": {
      "text/plain": [
       "(8124, 23)"
      ]
     },
     "execution_count": 3,
     "metadata": {},
     "output_type": "execute_result"
    }
   ],
   "source": [
    "df.shape"
   ]
  },
  {
   "cell_type": "code",
   "execution_count": 4,
   "id": "77234575",
   "metadata": {},
   "outputs": [
    {
     "name": "stdout",
     "output_type": "stream",
     "text": [
      "<class 'pandas.core.frame.DataFrame'>\n",
      "RangeIndex: 8124 entries, 0 to 8123\n",
      "Data columns (total 23 columns):\n",
      " #   Column                    Non-Null Count  Dtype \n",
      "---  ------                    --------------  ----- \n",
      " 0   class                     8124 non-null   object\n",
      " 1   cap-shape                 8124 non-null   object\n",
      " 2   cap-surface               8124 non-null   object\n",
      " 3   cap-color                 8124 non-null   object\n",
      " 4   bruises                   8124 non-null   object\n",
      " 5   odor                      8124 non-null   object\n",
      " 6   gill-attachment           8124 non-null   object\n",
      " 7   gill-spacing              8124 non-null   object\n",
      " 8   gill-size                 8124 non-null   object\n",
      " 9   gill-color                8124 non-null   object\n",
      " 10  stalk-shape               8124 non-null   object\n",
      " 11  stalk-root                8124 non-null   object\n",
      " 12  stalk-surface-above-ring  8124 non-null   object\n",
      " 13  stalk-surface-below-ring  8124 non-null   object\n",
      " 14  stalk-color-above-ring    8124 non-null   object\n",
      " 15  stalk-color-below-ring    8124 non-null   object\n",
      " 16  veil-type                 8124 non-null   object\n",
      " 17  veil-color                8124 non-null   object\n",
      " 18  ring-number               8124 non-null   object\n",
      " 19  ring-type                 8124 non-null   object\n",
      " 20  spore-print-color         8124 non-null   object\n",
      " 21  population                8124 non-null   object\n",
      " 22  habitat                   8124 non-null   object\n",
      "dtypes: object(23)\n",
      "memory usage: 1.4+ MB\n"
     ]
    }
   ],
   "source": [
    "df.info()"
   ]
  },
  {
   "cell_type": "code",
   "execution_count": 5,
   "id": "00a3ca36",
   "metadata": {},
   "outputs": [
    {
     "data": {
      "text/plain": [
       "Index(['class', 'cap-shape', 'cap-surface', 'cap-color', 'bruises', 'odor',\n",
       "       'gill-attachment', 'gill-spacing', 'gill-size', 'gill-color',\n",
       "       'stalk-shape', 'stalk-root', 'stalk-surface-above-ring',\n",
       "       'stalk-surface-below-ring', 'stalk-color-above-ring',\n",
       "       'stalk-color-below-ring', 'veil-type', 'veil-color', 'ring-number',\n",
       "       'ring-type', 'spore-print-color', 'population', 'habitat'],\n",
       "      dtype='object')"
      ]
     },
     "execution_count": 5,
     "metadata": {},
     "output_type": "execute_result"
    }
   ],
   "source": [
    "df.columns"
   ]
  },
  {
   "cell_type": "code",
   "execution_count": 6,
   "id": "b890dc2b",
   "metadata": {},
   "outputs": [],
   "source": [
    "from sklearn.preprocessing import OneHotEncoder\n",
    "from sklearn.preprocessing import LabelEncoder"
   ]
  },
  {
   "cell_type": "code",
   "execution_count": 7,
   "id": "d1adbc55",
   "metadata": {},
   "outputs": [
    {
     "data": {
      "text/plain": [
       "e    4208\n",
       "p    3916\n",
       "Name: class, dtype: int64"
      ]
     },
     "execution_count": 7,
     "metadata": {},
     "output_type": "execute_result"
    }
   ],
   "source": [
    "df['class'].value_counts()"
   ]
  },
  {
   "cell_type": "code",
   "execution_count": 8,
   "id": "f548e3ca",
   "metadata": {
    "scrolled": true
   },
   "outputs": [
    {
     "name": "stderr",
     "output_type": "stream",
     "text": [
      "E:\\Anaconda\\lib\\site-packages\\sklearn\\utils\\validation.py:63: DataConversionWarning: A column-vector y was passed when a 1d array was expected. Please change the shape of y to (n_samples, ), for example using ravel().\n",
      "  return f(*args, **kwargs)\n"
     ]
    },
    {
     "data": {
      "text/html": [
       "<div>\n",
       "<style scoped>\n",
       "    .dataframe tbody tr th:only-of-type {\n",
       "        vertical-align: middle;\n",
       "    }\n",
       "\n",
       "    .dataframe tbody tr th {\n",
       "        vertical-align: top;\n",
       "    }\n",
       "\n",
       "    .dataframe thead th {\n",
       "        text-align: right;\n",
       "    }\n",
       "</style>\n",
       "<table border=\"1\" class=\"dataframe\">\n",
       "  <thead>\n",
       "    <tr style=\"text-align: right;\">\n",
       "      <th></th>\n",
       "      <th>class</th>\n",
       "      <th>cap-shape</th>\n",
       "      <th>cap-surface</th>\n",
       "      <th>cap-color</th>\n",
       "      <th>bruises</th>\n",
       "      <th>odor</th>\n",
       "      <th>gill-attachment</th>\n",
       "      <th>gill-spacing</th>\n",
       "      <th>gill-size</th>\n",
       "      <th>gill-color</th>\n",
       "      <th>...</th>\n",
       "      <th>stalk-surface-below-ring</th>\n",
       "      <th>stalk-color-above-ring</th>\n",
       "      <th>stalk-color-below-ring</th>\n",
       "      <th>veil-type</th>\n",
       "      <th>veil-color</th>\n",
       "      <th>ring-number</th>\n",
       "      <th>ring-type</th>\n",
       "      <th>spore-print-color</th>\n",
       "      <th>population</th>\n",
       "      <th>habitat</th>\n",
       "    </tr>\n",
       "  </thead>\n",
       "  <tbody>\n",
       "    <tr>\n",
       "      <th>0</th>\n",
       "      <td>1</td>\n",
       "      <td>x</td>\n",
       "      <td>s</td>\n",
       "      <td>n</td>\n",
       "      <td>1</td>\n",
       "      <td>p</td>\n",
       "      <td>1</td>\n",
       "      <td>0</td>\n",
       "      <td>1</td>\n",
       "      <td>k</td>\n",
       "      <td>...</td>\n",
       "      <td>s</td>\n",
       "      <td>w</td>\n",
       "      <td>w</td>\n",
       "      <td>0</td>\n",
       "      <td>w</td>\n",
       "      <td>o</td>\n",
       "      <td>p</td>\n",
       "      <td>k</td>\n",
       "      <td>s</td>\n",
       "      <td>u</td>\n",
       "    </tr>\n",
       "    <tr>\n",
       "      <th>1</th>\n",
       "      <td>0</td>\n",
       "      <td>x</td>\n",
       "      <td>s</td>\n",
       "      <td>y</td>\n",
       "      <td>1</td>\n",
       "      <td>a</td>\n",
       "      <td>1</td>\n",
       "      <td>0</td>\n",
       "      <td>0</td>\n",
       "      <td>k</td>\n",
       "      <td>...</td>\n",
       "      <td>s</td>\n",
       "      <td>w</td>\n",
       "      <td>w</td>\n",
       "      <td>0</td>\n",
       "      <td>w</td>\n",
       "      <td>o</td>\n",
       "      <td>p</td>\n",
       "      <td>n</td>\n",
       "      <td>n</td>\n",
       "      <td>g</td>\n",
       "    </tr>\n",
       "    <tr>\n",
       "      <th>2</th>\n",
       "      <td>0</td>\n",
       "      <td>b</td>\n",
       "      <td>s</td>\n",
       "      <td>w</td>\n",
       "      <td>1</td>\n",
       "      <td>l</td>\n",
       "      <td>1</td>\n",
       "      <td>0</td>\n",
       "      <td>0</td>\n",
       "      <td>n</td>\n",
       "      <td>...</td>\n",
       "      <td>s</td>\n",
       "      <td>w</td>\n",
       "      <td>w</td>\n",
       "      <td>0</td>\n",
       "      <td>w</td>\n",
       "      <td>o</td>\n",
       "      <td>p</td>\n",
       "      <td>n</td>\n",
       "      <td>n</td>\n",
       "      <td>m</td>\n",
       "    </tr>\n",
       "    <tr>\n",
       "      <th>3</th>\n",
       "      <td>1</td>\n",
       "      <td>x</td>\n",
       "      <td>y</td>\n",
       "      <td>w</td>\n",
       "      <td>1</td>\n",
       "      <td>p</td>\n",
       "      <td>1</td>\n",
       "      <td>0</td>\n",
       "      <td>1</td>\n",
       "      <td>n</td>\n",
       "      <td>...</td>\n",
       "      <td>s</td>\n",
       "      <td>w</td>\n",
       "      <td>w</td>\n",
       "      <td>0</td>\n",
       "      <td>w</td>\n",
       "      <td>o</td>\n",
       "      <td>p</td>\n",
       "      <td>k</td>\n",
       "      <td>s</td>\n",
       "      <td>u</td>\n",
       "    </tr>\n",
       "    <tr>\n",
       "      <th>4</th>\n",
       "      <td>0</td>\n",
       "      <td>x</td>\n",
       "      <td>s</td>\n",
       "      <td>g</td>\n",
       "      <td>0</td>\n",
       "      <td>n</td>\n",
       "      <td>1</td>\n",
       "      <td>1</td>\n",
       "      <td>0</td>\n",
       "      <td>k</td>\n",
       "      <td>...</td>\n",
       "      <td>s</td>\n",
       "      <td>w</td>\n",
       "      <td>w</td>\n",
       "      <td>0</td>\n",
       "      <td>w</td>\n",
       "      <td>o</td>\n",
       "      <td>e</td>\n",
       "      <td>n</td>\n",
       "      <td>a</td>\n",
       "      <td>g</td>\n",
       "    </tr>\n",
       "  </tbody>\n",
       "</table>\n",
       "<p>5 rows × 23 columns</p>\n",
       "</div>"
      ],
      "text/plain": [
       "   class cap-shape cap-surface cap-color  bruises odor  gill-attachment  \\\n",
       "0      1         x           s         n        1    p                1   \n",
       "1      0         x           s         y        1    a                1   \n",
       "2      0         b           s         w        1    l                1   \n",
       "3      1         x           y         w        1    p                1   \n",
       "4      0         x           s         g        0    n                1   \n",
       "\n",
       "   gill-spacing  gill-size gill-color  ...  stalk-surface-below-ring  \\\n",
       "0             0          1          k  ...                         s   \n",
       "1             0          0          k  ...                         s   \n",
       "2             0          0          n  ...                         s   \n",
       "3             0          1          n  ...                         s   \n",
       "4             1          0          k  ...                         s   \n",
       "\n",
       "  stalk-color-above-ring stalk-color-below-ring veil-type veil-color  \\\n",
       "0                      w                      w         0          w   \n",
       "1                      w                      w         0          w   \n",
       "2                      w                      w         0          w   \n",
       "3                      w                      w         0          w   \n",
       "4                      w                      w         0          w   \n",
       "\n",
       "  ring-number  ring-type spore-print-color population habitat  \n",
       "0           o          p                 k          s       u  \n",
       "1           o          p                 n          n       g  \n",
       "2           o          p                 n          n       m  \n",
       "3           o          p                 k          s       u  \n",
       "4           o          e                 n          a       g  \n",
       "\n",
       "[5 rows x 23 columns]"
      ]
     },
     "execution_count": 8,
     "metadata": {},
     "output_type": "execute_result"
    }
   ],
   "source": [
    "from sklearn.preprocessing import LabelEncoder\n",
    "labelencoder=LabelEncoder()\n",
    "x_en1=df.iloc[:,[0]].values\n",
    "df['class']=labelencoder.fit_transform(x_en1)\n",
    "x_en2=df.iloc[:,[6]].values\n",
    "df['gill-attachment']=labelencoder.fit_transform(x_en2)\n",
    "x_en3=df.iloc[:,[7]].values\n",
    "df['gill-spacing']=labelencoder.fit_transform(x_en3)\n",
    "x_en4=df.iloc[:,[8]].values\n",
    "df['gill-size']=labelencoder.fit_transform(x_en4)\n",
    "x_en5=df.iloc[:,[10]].values\n",
    "df['stalk-shape']=labelencoder.fit_transform(x_en5)\n",
    "x_en6=df.iloc[:,[4]].values\n",
    "df['bruises']=labelencoder.fit_transform(x_en6)\n",
    "x_en7=df.iloc[:,[16]].values\n",
    "df['veil-type']=labelencoder.fit_transform(x_en7)\n",
    "df.head()"
   ]
  },
  {
   "cell_type": "code",
   "execution_count": 9,
   "id": "7bc7cfcd",
   "metadata": {},
   "outputs": [
    {
     "name": "stdout",
     "output_type": "stream",
     "text": [
      "class\n",
      "0    4208\n",
      "1    3916\n",
      "dtype: int64\n",
      "cap-shape\n",
      "b     452\n",
      "c       4\n",
      "f    3152\n",
      "k     828\n",
      "s      32\n",
      "x    3656\n",
      "dtype: int64\n",
      "cap-surface\n",
      "f    2320\n",
      "g       4\n",
      "s    2556\n",
      "y    3244\n",
      "dtype: int64\n",
      "cap-color\n",
      "b     168\n",
      "c      44\n",
      "e    1500\n",
      "g    1840\n",
      "n    2284\n",
      "p     144\n",
      "r      16\n",
      "u      16\n",
      "w    1040\n",
      "y    1072\n",
      "dtype: int64\n",
      "bruises\n",
      "0    4748\n",
      "1    3376\n",
      "dtype: int64\n",
      "odor\n",
      "a     400\n",
      "c     192\n",
      "f    2160\n",
      "l     400\n",
      "m      36\n",
      "n    3528\n",
      "p     256\n",
      "s     576\n",
      "y     576\n",
      "dtype: int64\n",
      "gill-attachment\n",
      "0     210\n",
      "1    7914\n",
      "dtype: int64\n",
      "gill-spacing\n",
      "0    6812\n",
      "1    1312\n",
      "dtype: int64\n",
      "gill-size\n",
      "0    5612\n",
      "1    2512\n",
      "dtype: int64\n",
      "gill-color\n",
      "b    1728\n",
      "e      96\n",
      "g     752\n",
      "h     732\n",
      "k     408\n",
      "n    1048\n",
      "o      64\n",
      "p    1492\n",
      "r      24\n",
      "u     492\n",
      "w    1202\n",
      "y      86\n",
      "dtype: int64\n",
      "stalk-shape\n",
      "0    3516\n",
      "1    4608\n",
      "dtype: int64\n",
      "stalk-root\n",
      "?    2480\n",
      "b    3776\n",
      "c     556\n",
      "e    1120\n",
      "r     192\n",
      "dtype: int64\n",
      "stalk-surface-above-ring\n",
      "f     552\n",
      "k    2372\n",
      "s    5176\n",
      "y      24\n",
      "dtype: int64\n",
      "stalk-surface-below-ring\n",
      "f     600\n",
      "k    2304\n",
      "s    4936\n",
      "y     284\n",
      "dtype: int64\n",
      "stalk-color-above-ring\n",
      "b     432\n",
      "c      36\n",
      "e      96\n",
      "g     576\n",
      "n     448\n",
      "o     192\n",
      "p    1872\n",
      "w    4464\n",
      "y       8\n",
      "dtype: int64\n",
      "stalk-color-below-ring\n",
      "b     432\n",
      "c      36\n",
      "e      96\n",
      "g     576\n",
      "n     512\n",
      "o     192\n",
      "p    1872\n",
      "w    4384\n",
      "y      24\n",
      "dtype: int64\n",
      "veil-type\n",
      "0    8124\n",
      "dtype: int64\n",
      "veil-color\n",
      "n      96\n",
      "o      96\n",
      "w    7924\n",
      "y       8\n",
      "dtype: int64\n",
      "ring-number\n",
      "n      36\n",
      "o    7488\n",
      "t     600\n",
      "dtype: int64\n",
      "ring-type\n",
      "e    2776\n",
      "f      48\n",
      "l    1296\n",
      "n      36\n",
      "p    3968\n",
      "dtype: int64\n",
      "spore-print-color\n",
      "b      48\n",
      "h    1632\n",
      "k    1872\n",
      "n    1968\n",
      "o      48\n",
      "r      72\n",
      "u      48\n",
      "w    2388\n",
      "y      48\n",
      "dtype: int64\n",
      "population\n",
      "a     384\n",
      "c     340\n",
      "n     400\n",
      "s    1248\n",
      "v    4040\n",
      "y    1712\n",
      "dtype: int64\n",
      "habitat\n",
      "d    3148\n",
      "g    2148\n",
      "l     832\n",
      "m     292\n",
      "p    1144\n",
      "u     368\n",
      "w     192\n",
      "dtype: int64\n"
     ]
    }
   ],
   "source": [
    "# columns - No.of categories\n",
    "#class-2, cap-shape'-2, car-shape-6, cap-surface-4, cap-color-10, bruises-2, odor-9, gill-attachment-2, gill-spacing-2, gill-size-2, \n",
    "#gill-color-12, stalk-shape-2, stalk-root-5, stalk-surface-above-ring-4,stalk-surface-below-ring-4, stalk-color-above-ring-9,\n",
    "#stalk-color-below-ring-9, veil-type- 2, veil-color-4, ring-number-3, ring-type-5, spore-print-color-9, population-6, habitat-7\n",
    "for col in df.columns:\n",
    "    print(df.groupby([col]).size())"
   ]
  },
  {
   "cell_type": "code",
   "execution_count": 10,
   "id": "6356bae1",
   "metadata": {},
   "outputs": [
    {
     "data": {
      "text/plain": [
       "b    3776\n",
       "a    2480\n",
       "e    1120\n",
       "c     556\n",
       "r     192\n",
       "Name: stalk-root, dtype: int64"
      ]
     },
     "execution_count": 10,
     "metadata": {},
     "output_type": "execute_result"
    }
   ],
   "source": [
    "df['stalk-root'].replace('?','a', inplace=True)\n",
    "df['stalk-root'].value_counts()"
   ]
  },
  {
   "cell_type": "code",
   "execution_count": 11,
   "id": "7d8fb7c6",
   "metadata": {},
   "outputs": [
    {
     "name": "stdout",
     "output_type": "stream",
     "text": [
      "<class 'pandas.core.frame.DataFrame'>\n",
      "RangeIndex: 8124 entries, 0 to 8123\n",
      "Data columns (total 6 columns):\n",
      " #   Column   Non-Null Count  Dtype\n",
      "---  ------   --------------  -----\n",
      " 0   habit_g  8124 non-null   uint8\n",
      " 1   habit_l  8124 non-null   uint8\n",
      " 2   habit_m  8124 non-null   uint8\n",
      " 3   habit_p  8124 non-null   uint8\n",
      " 4   habit_u  8124 non-null   uint8\n",
      " 5   habit_w  8124 non-null   uint8\n",
      "dtypes: uint8(6)\n",
      "memory usage: 47.7 KB\n"
     ]
    }
   ],
   "source": [
    "shape = pd.get_dummies(df['cap-shape'],drop_first=True,prefix='shape')\n",
    "suface = pd.get_dummies(df['cap-surface'],drop_first=True,prefix='surface')\n",
    "colors = pd.get_dummies(df['cap-color'],drop_first=True,prefix='colors')\n",
    "odor = pd.get_dummies(df['odor'],drop_first=True,prefix='odor')\n",
    "gilcolor = pd.get_dummies(df['gill-color'],drop_first=True,prefix='gilcolor')\n",
    "stalk_root = pd.get_dummies(df['stalk-root'],drop_first=True,prefix='sroot')\n",
    "ssa_ring = pd.get_dummies(df['stalk-surface-above-ring'],drop_first=True,prefix='ssa_ring')\n",
    "ssb_ring = pd.get_dummies(df['stalk-surface-below-ring'],drop_first=True,prefix='ssb_ring')\n",
    "sca_ring = pd.get_dummies(df['stalk-color-above-ring'],drop_first=True,prefix='sca_ring')\n",
    "scb_ring = pd.get_dummies(df['stalk-color-below-ring'],drop_first=True,prefix='scb_ring')\n",
    "veil_color = pd.get_dummies(df['veil-color'],drop_first=True,prefix='veil-color')\n",
    "ringno = pd.get_dummies(df['ring-number'],drop_first=True,prefix='ring-number')\n",
    "ringtype = pd.get_dummies(df['ring-type'],drop_first=True,prefix='ring-type')\n",
    "sp_color = pd.get_dummies(df['spore-print-color'],drop_first=True,prefix='sp-color')\n",
    "population = pd.get_dummies(df['population'],drop_first=True,prefix='pop')\n",
    "habitat = pd.get_dummies(df['habitat'],drop_first=True,prefix='habit')\n",
    "habitat.info()"
   ]
  },
  {
   "cell_type": "code",
   "execution_count": 12,
   "id": "9c4fe9a3",
   "metadata": {},
   "outputs": [
    {
     "data": {
      "text/html": [
       "<div>\n",
       "<style scoped>\n",
       "    .dataframe tbody tr th:only-of-type {\n",
       "        vertical-align: middle;\n",
       "    }\n",
       "\n",
       "    .dataframe tbody tr th {\n",
       "        vertical-align: top;\n",
       "    }\n",
       "\n",
       "    .dataframe thead th {\n",
       "        text-align: right;\n",
       "    }\n",
       "</style>\n",
       "<table border=\"1\" class=\"dataframe\">\n",
       "  <thead>\n",
       "    <tr style=\"text-align: right;\">\n",
       "      <th></th>\n",
       "      <th>shape_c</th>\n",
       "      <th>shape_f</th>\n",
       "      <th>shape_k</th>\n",
       "      <th>shape_s</th>\n",
       "      <th>shape_x</th>\n",
       "      <th>surface_g</th>\n",
       "      <th>surface_s</th>\n",
       "      <th>surface_y</th>\n",
       "      <th>colors_c</th>\n",
       "      <th>colors_e</th>\n",
       "      <th>...</th>\n",
       "      <th>pop_n</th>\n",
       "      <th>pop_s</th>\n",
       "      <th>pop_v</th>\n",
       "      <th>pop_y</th>\n",
       "      <th>habit_g</th>\n",
       "      <th>habit_l</th>\n",
       "      <th>habit_m</th>\n",
       "      <th>habit_p</th>\n",
       "      <th>habit_u</th>\n",
       "      <th>habit_w</th>\n",
       "    </tr>\n",
       "  </thead>\n",
       "  <tbody>\n",
       "    <tr>\n",
       "      <th>0</th>\n",
       "      <td>0</td>\n",
       "      <td>0</td>\n",
       "      <td>0</td>\n",
       "      <td>0</td>\n",
       "      <td>1</td>\n",
       "      <td>0</td>\n",
       "      <td>1</td>\n",
       "      <td>0</td>\n",
       "      <td>0</td>\n",
       "      <td>0</td>\n",
       "      <td>...</td>\n",
       "      <td>0</td>\n",
       "      <td>1</td>\n",
       "      <td>0</td>\n",
       "      <td>0</td>\n",
       "      <td>0</td>\n",
       "      <td>0</td>\n",
       "      <td>0</td>\n",
       "      <td>0</td>\n",
       "      <td>1</td>\n",
       "      <td>0</td>\n",
       "    </tr>\n",
       "    <tr>\n",
       "      <th>1</th>\n",
       "      <td>0</td>\n",
       "      <td>0</td>\n",
       "      <td>0</td>\n",
       "      <td>0</td>\n",
       "      <td>1</td>\n",
       "      <td>0</td>\n",
       "      <td>1</td>\n",
       "      <td>0</td>\n",
       "      <td>0</td>\n",
       "      <td>0</td>\n",
       "      <td>...</td>\n",
       "      <td>1</td>\n",
       "      <td>0</td>\n",
       "      <td>0</td>\n",
       "      <td>0</td>\n",
       "      <td>1</td>\n",
       "      <td>0</td>\n",
       "      <td>0</td>\n",
       "      <td>0</td>\n",
       "      <td>0</td>\n",
       "      <td>0</td>\n",
       "    </tr>\n",
       "    <tr>\n",
       "      <th>2</th>\n",
       "      <td>0</td>\n",
       "      <td>0</td>\n",
       "      <td>0</td>\n",
       "      <td>0</td>\n",
       "      <td>0</td>\n",
       "      <td>0</td>\n",
       "      <td>1</td>\n",
       "      <td>0</td>\n",
       "      <td>0</td>\n",
       "      <td>0</td>\n",
       "      <td>...</td>\n",
       "      <td>1</td>\n",
       "      <td>0</td>\n",
       "      <td>0</td>\n",
       "      <td>0</td>\n",
       "      <td>0</td>\n",
       "      <td>0</td>\n",
       "      <td>1</td>\n",
       "      <td>0</td>\n",
       "      <td>0</td>\n",
       "      <td>0</td>\n",
       "    </tr>\n",
       "    <tr>\n",
       "      <th>3</th>\n",
       "      <td>0</td>\n",
       "      <td>0</td>\n",
       "      <td>0</td>\n",
       "      <td>0</td>\n",
       "      <td>1</td>\n",
       "      <td>0</td>\n",
       "      <td>0</td>\n",
       "      <td>1</td>\n",
       "      <td>0</td>\n",
       "      <td>0</td>\n",
       "      <td>...</td>\n",
       "      <td>0</td>\n",
       "      <td>1</td>\n",
       "      <td>0</td>\n",
       "      <td>0</td>\n",
       "      <td>0</td>\n",
       "      <td>0</td>\n",
       "      <td>0</td>\n",
       "      <td>0</td>\n",
       "      <td>1</td>\n",
       "      <td>0</td>\n",
       "    </tr>\n",
       "    <tr>\n",
       "      <th>4</th>\n",
       "      <td>0</td>\n",
       "      <td>0</td>\n",
       "      <td>0</td>\n",
       "      <td>0</td>\n",
       "      <td>1</td>\n",
       "      <td>0</td>\n",
       "      <td>1</td>\n",
       "      <td>0</td>\n",
       "      <td>0</td>\n",
       "      <td>0</td>\n",
       "      <td>...</td>\n",
       "      <td>0</td>\n",
       "      <td>0</td>\n",
       "      <td>0</td>\n",
       "      <td>0</td>\n",
       "      <td>1</td>\n",
       "      <td>0</td>\n",
       "      <td>0</td>\n",
       "      <td>0</td>\n",
       "      <td>0</td>\n",
       "      <td>0</td>\n",
       "    </tr>\n",
       "  </tbody>\n",
       "</table>\n",
       "<p>5 rows × 90 columns</p>\n",
       "</div>"
      ],
      "text/plain": [
       "   shape_c  shape_f  shape_k  shape_s  shape_x  surface_g  surface_s  \\\n",
       "0        0        0        0        0        1          0          1   \n",
       "1        0        0        0        0        1          0          1   \n",
       "2        0        0        0        0        0          0          1   \n",
       "3        0        0        0        0        1          0          0   \n",
       "4        0        0        0        0        1          0          1   \n",
       "\n",
       "   surface_y  colors_c  colors_e  ...  pop_n  pop_s  pop_v  pop_y  habit_g  \\\n",
       "0          0         0         0  ...      0      1      0      0        0   \n",
       "1          0         0         0  ...      1      0      0      0        1   \n",
       "2          0         0         0  ...      1      0      0      0        0   \n",
       "3          1         0         0  ...      0      1      0      0        0   \n",
       "4          0         0         0  ...      0      0      0      0        1   \n",
       "\n",
       "   habit_l  habit_m  habit_p  habit_u  habit_w  \n",
       "0        0        0        0        1        0  \n",
       "1        0        0        0        0        0  \n",
       "2        0        1        0        0        0  \n",
       "3        0        0        0        1        0  \n",
       "4        0        0        0        0        0  \n",
       "\n",
       "[5 rows x 90 columns]"
      ]
     },
     "execution_count": 12,
     "metadata": {},
     "output_type": "execute_result"
    }
   ],
   "source": [
    "col = ['shape','suface','colors','odor','gilcolor','stalk_root','ssa_ring','ssb_ring','sca_ring','scb_ring','veil_color','ringno','ringtype','sp_color','population','habitat']\n",
    "df_new = pd.concat([shape,suface,colors,odor,gilcolor,stalk_root,ssa_ring,ssb_ring,sca_ring,scb_ring,veil_color,ringno,ringtype,sp_color,population,habitat],axis=1)\n",
    "df_new.head()"
   ]
  },
  {
   "cell_type": "code",
   "execution_count": 13,
   "id": "f7f690ab",
   "metadata": {},
   "outputs": [
    {
     "data": {
      "text/plain": [
       "shape_c    0\n",
       "shape_f    0\n",
       "shape_k    0\n",
       "shape_s    0\n",
       "shape_x    0\n",
       "          ..\n",
       "habit_l    0\n",
       "habit_m    0\n",
       "habit_p    0\n",
       "habit_u    0\n",
       "habit_w    0\n",
       "Length: 90, dtype: int64"
      ]
     },
     "execution_count": 13,
     "metadata": {},
     "output_type": "execute_result"
    }
   ],
   "source": [
    "df_new.isnull().sum()"
   ]
  },
  {
   "cell_type": "markdown",
   "id": "fc56b080",
   "metadata": {},
   "source": [
    "### Feature Engineering"
   ]
  },
  {
   "cell_type": "code",
   "execution_count": 14,
   "id": "b5d8200a",
   "metadata": {},
   "outputs": [
    {
     "data": {
      "text/plain": [
       "((8124, 90), (8124,))"
      ]
     },
     "execution_count": 14,
     "metadata": {},
     "output_type": "execute_result"
    }
   ],
   "source": [
    "x = df_new.copy()\n",
    "y = df['class']\n",
    "x.shape,y.shape"
   ]
  },
  {
   "cell_type": "code",
   "execution_count": 15,
   "id": "5f5d90b1",
   "metadata": {},
   "outputs": [],
   "source": [
    "#class-2, cap-shape'-2, car-shape-6, cap-surface-4, cap-color-10, bruises-2, odor-9, gill-attachment-2, gill-spacing-2, gill-size-2, \n",
    "#gill-color-12, stalk-shape-2, stalk-root-5, stalk-surface-above-ring-4,stalk-surface-below-ring-4, stalk-color-above-ring-9,\n",
    "#stalk-color-below-ring-9, veil-type- 2, veil-color-4, ring-number-3, ring-type-5, spore-print-color-9, population-6, habitat-7"
   ]
  },
  {
   "cell_type": "code",
   "execution_count": 16,
   "id": "2dc35082",
   "metadata": {},
   "outputs": [],
   "source": [
    "# check multicollinarity by pearson coefficient correlation , for independent(x) variable only"
   ]
  },
  {
   "cell_type": "code",
   "execution_count": 17,
   "id": "1f1c6fe3",
   "metadata": {},
   "outputs": [],
   "source": [
    "def correlation(dataset,threshold):\n",
    "    col_corr = list()\n",
    "    corr_matrix = dataset.corr()\n",
    "    for i in range(len(corr_matrix.columns)):\n",
    "        for j in range(i):\n",
    "            if abs(corr_matrix.iloc[i,j]>threshold):\n",
    "                colname = corr_matrix.columns[i]\n",
    "                col_corr.append(colname)\n",
    "    return col_corr"
   ]
  },
  {
   "cell_type": "code",
   "execution_count": 18,
   "id": "d66dd279",
   "metadata": {},
   "outputs": [
    {
     "data": {
      "text/html": [
       "<div>\n",
       "<style scoped>\n",
       "    .dataframe tbody tr th:only-of-type {\n",
       "        vertical-align: middle;\n",
       "    }\n",
       "\n",
       "    .dataframe tbody tr th {\n",
       "        vertical-align: top;\n",
       "    }\n",
       "\n",
       "    .dataframe thead th {\n",
       "        text-align: right;\n",
       "    }\n",
       "</style>\n",
       "<table border=\"1\" class=\"dataframe\">\n",
       "  <thead>\n",
       "    <tr style=\"text-align: right;\">\n",
       "      <th></th>\n",
       "      <th>ssb_ring_k</th>\n",
       "      <th>ssb_ring_k</th>\n",
       "      <th>ssb_ring_y</th>\n",
       "      <th>sca_ring_c</th>\n",
       "      <th>scb_ring_c</th>\n",
       "      <th>scb_ring_c</th>\n",
       "      <th>scb_ring_o</th>\n",
       "      <th>veil-color_o</th>\n",
       "      <th>veil-color_o</th>\n",
       "      <th>veil-color_y</th>\n",
       "      <th>...</th>\n",
       "      <th>ring-type_n</th>\n",
       "      <th>ring-type_n</th>\n",
       "      <th>ring-type_n</th>\n",
       "      <th>sp-color_h</th>\n",
       "      <th>sp-color_h</th>\n",
       "      <th>habit_m</th>\n",
       "      <th>habit_w</th>\n",
       "      <th>habit_w</th>\n",
       "      <th>habit_w</th>\n",
       "      <th>habit_w</th>\n",
       "    </tr>\n",
       "  </thead>\n",
       "  <tbody>\n",
       "    <tr>\n",
       "      <th>0</th>\n",
       "      <td>0</td>\n",
       "      <td>0</td>\n",
       "      <td>0</td>\n",
       "      <td>0</td>\n",
       "      <td>0</td>\n",
       "      <td>0</td>\n",
       "      <td>0</td>\n",
       "      <td>0</td>\n",
       "      <td>0</td>\n",
       "      <td>0</td>\n",
       "      <td>...</td>\n",
       "      <td>0</td>\n",
       "      <td>0</td>\n",
       "      <td>0</td>\n",
       "      <td>0</td>\n",
       "      <td>0</td>\n",
       "      <td>0</td>\n",
       "      <td>0</td>\n",
       "      <td>0</td>\n",
       "      <td>0</td>\n",
       "      <td>0</td>\n",
       "    </tr>\n",
       "    <tr>\n",
       "      <th>1</th>\n",
       "      <td>0</td>\n",
       "      <td>0</td>\n",
       "      <td>0</td>\n",
       "      <td>0</td>\n",
       "      <td>0</td>\n",
       "      <td>0</td>\n",
       "      <td>0</td>\n",
       "      <td>0</td>\n",
       "      <td>0</td>\n",
       "      <td>0</td>\n",
       "      <td>...</td>\n",
       "      <td>0</td>\n",
       "      <td>0</td>\n",
       "      <td>0</td>\n",
       "      <td>0</td>\n",
       "      <td>0</td>\n",
       "      <td>0</td>\n",
       "      <td>0</td>\n",
       "      <td>0</td>\n",
       "      <td>0</td>\n",
       "      <td>0</td>\n",
       "    </tr>\n",
       "    <tr>\n",
       "      <th>2</th>\n",
       "      <td>0</td>\n",
       "      <td>0</td>\n",
       "      <td>0</td>\n",
       "      <td>0</td>\n",
       "      <td>0</td>\n",
       "      <td>0</td>\n",
       "      <td>0</td>\n",
       "      <td>0</td>\n",
       "      <td>0</td>\n",
       "      <td>0</td>\n",
       "      <td>...</td>\n",
       "      <td>0</td>\n",
       "      <td>0</td>\n",
       "      <td>0</td>\n",
       "      <td>0</td>\n",
       "      <td>0</td>\n",
       "      <td>1</td>\n",
       "      <td>0</td>\n",
       "      <td>0</td>\n",
       "      <td>0</td>\n",
       "      <td>0</td>\n",
       "    </tr>\n",
       "    <tr>\n",
       "      <th>3</th>\n",
       "      <td>0</td>\n",
       "      <td>0</td>\n",
       "      <td>0</td>\n",
       "      <td>0</td>\n",
       "      <td>0</td>\n",
       "      <td>0</td>\n",
       "      <td>0</td>\n",
       "      <td>0</td>\n",
       "      <td>0</td>\n",
       "      <td>0</td>\n",
       "      <td>...</td>\n",
       "      <td>0</td>\n",
       "      <td>0</td>\n",
       "      <td>0</td>\n",
       "      <td>0</td>\n",
       "      <td>0</td>\n",
       "      <td>0</td>\n",
       "      <td>0</td>\n",
       "      <td>0</td>\n",
       "      <td>0</td>\n",
       "      <td>0</td>\n",
       "    </tr>\n",
       "    <tr>\n",
       "      <th>4</th>\n",
       "      <td>0</td>\n",
       "      <td>0</td>\n",
       "      <td>0</td>\n",
       "      <td>0</td>\n",
       "      <td>0</td>\n",
       "      <td>0</td>\n",
       "      <td>0</td>\n",
       "      <td>0</td>\n",
       "      <td>0</td>\n",
       "      <td>0</td>\n",
       "      <td>...</td>\n",
       "      <td>0</td>\n",
       "      <td>0</td>\n",
       "      <td>0</td>\n",
       "      <td>0</td>\n",
       "      <td>0</td>\n",
       "      <td>0</td>\n",
       "      <td>0</td>\n",
       "      <td>0</td>\n",
       "      <td>0</td>\n",
       "      <td>0</td>\n",
       "    </tr>\n",
       "  </tbody>\n",
       "</table>\n",
       "<p>5 rows × 23 columns</p>\n",
       "</div>"
      ],
      "text/plain": [
       "   ssb_ring_k  ssb_ring_k  ssb_ring_y  sca_ring_c  scb_ring_c  scb_ring_c  \\\n",
       "0           0           0           0           0           0           0   \n",
       "1           0           0           0           0           0           0   \n",
       "2           0           0           0           0           0           0   \n",
       "3           0           0           0           0           0           0   \n",
       "4           0           0           0           0           0           0   \n",
       "\n",
       "   scb_ring_o  veil-color_o  veil-color_o  veil-color_y  ...  ring-type_n  \\\n",
       "0           0             0             0             0  ...            0   \n",
       "1           0             0             0             0  ...            0   \n",
       "2           0             0             0             0  ...            0   \n",
       "3           0             0             0             0  ...            0   \n",
       "4           0             0             0             0  ...            0   \n",
       "\n",
       "   ring-type_n  ring-type_n  sp-color_h  sp-color_h  habit_m  habit_w  \\\n",
       "0            0            0           0           0        0        0   \n",
       "1            0            0           0           0        0        0   \n",
       "2            0            0           0           0        1        0   \n",
       "3            0            0           0           0        0        0   \n",
       "4            0            0           0           0        0        0   \n",
       "\n",
       "   habit_w  habit_w  habit_w  \n",
       "0        0        0        0  \n",
       "1        0        0        0  \n",
       "2        0        0        0  \n",
       "3        0        0        0  \n",
       "4        0        0        0  \n",
       "\n",
       "[5 rows x 23 columns]"
      ]
     },
     "execution_count": 18,
     "metadata": {},
     "output_type": "execute_result"
    }
   ],
   "source": [
    "x_new1 = correlation(x,0.6)\n",
    "x_new = pd.DataFrame(data=x,columns=x_new1)\n",
    "x_new.head()"
   ]
  },
  {
   "cell_type": "code",
   "execution_count": 19,
   "id": "fb413ece",
   "metadata": {},
   "outputs": [],
   "source": [
    "# Feature selection - 1.Mutual info classifier(x_new,y)"
   ]
  },
  {
   "cell_type": "code",
   "execution_count": 20,
   "id": "1150abf1",
   "metadata": {},
   "outputs": [
    {
     "data": {
      "text/plain": [
       "<AxesSubplot:>"
      ]
     },
     "execution_count": 20,
     "metadata": {},
     "output_type": "execute_result"
    },
    {
     "data": {
      "image/png": "[encoded data removed]",
      "text/plain": [
       "<Figure size 1440x432 with 1 Axes>"
      ]
     },
     "metadata": {
      "needs_background": "light"
     },
     "output_type": "display_data"
    }
   ],
   "source": [
    "from sklearn.feature_selection import mutual_info_classif\n",
    "\n",
    "mi = mutual_info_classif(x_new,y)\n",
    "mi_info = pd.Series(mi)\n",
    "mi_info.index = x_new.columns\n",
    "mi_info.sort_values(ascending=False).plot.bar(figsize=(20,6))"
   ]
  },
  {
   "cell_type": "code",
   "execution_count": 21,
   "id": "d0707405",
   "metadata": {},
   "outputs": [
    {
     "data": {
      "text/plain": [
       "(8124, 20)"
      ]
     },
     "execution_count": 21,
     "metadata": {},
     "output_type": "execute_result"
    }
   ],
   "source": [
    "from sklearn.feature_selection import SelectKBest\n",
    "\n",
    "selector = SelectKBest(mutual_info_classif,k=20)\n",
    "selector.fit(x_new,y)\n",
    "\n",
    "cols = selector.get_support(indices=True)\n",
    "x_kbest = x_new.iloc[:,cols]\n",
    "x_kbest.shape"
   ]
  },
  {
   "cell_type": "code",
   "execution_count": 22,
   "id": "52735362",
   "metadata": {},
   "outputs": [],
   "source": [
    "# Feature selection - 2.PCA (x_new)"
   ]
  },
  {
   "cell_type": "code",
   "execution_count": 23,
   "id": "f8a8d0ce",
   "metadata": {},
   "outputs": [
    {
     "data": {
      "text/plain": [
       "array([6.70680786e-01, 1.28821632e-01, 6.71851135e-02, 3.17879746e-02,\n",
       "       3.02747039e-02, 2.83271453e-02, 2.33357815e-02, 1.38484714e-02,\n",
       "       5.04072714e-03, 6.97664472e-04, 2.96650154e-29, 6.62738386e-31,\n",
       "       7.96214606e-32, 1.22817062e-32, 3.06084209e-33, 1.30203353e-33,\n",
       "       4.91133547e-34, 1.64446039e-35, 2.26407514e-36, 3.61715326e-38])"
      ]
     },
     "execution_count": 23,
     "metadata": {},
     "output_type": "execute_result"
    }
   ],
   "source": [
    "from sklearn import decomposition\n",
    "pca = decomposition.PCA(n_components =20)\n",
    "score = pca.fit_transform(x_new)\n",
    "pca.explained_variance_ratio_"
   ]
  },
  {
   "cell_type": "code",
   "execution_count": 24,
   "id": "5b5371d1",
   "metadata": {},
   "outputs": [
    {
     "data": {
      "text/plain": [
       "(8124, 20)"
      ]
     },
     "execution_count": 24,
     "metadata": {},
     "output_type": "execute_result"
    }
   ],
   "source": [
    "x_pca = pd.DataFrame(data =score, columns = ['pca1','pc2','pc3','pc4','pc5','pc6','pc7','pc8','pc9','pc10','pc11','pc12','pc13','pc14','pc15','pc16','pc17','pc18','pc19','pc20'])\n",
    "x_pca.shape"
   ]
  },
  {
   "cell_type": "markdown",
   "id": "1a43ee0a",
   "metadata": {},
   "source": [
    "### Feature selected by mutual info classifier (SelectKBest method)"
   ]
  },
  {
   "cell_type": "code",
   "execution_count": 25,
   "id": "208c3df4",
   "metadata": {},
   "outputs": [
    {
     "data": {
      "text/plain": [
       "((5686, 20), (2438, 20), (5686,), (2438,))"
      ]
     },
     "execution_count": 25,
     "metadata": {},
     "output_type": "execute_result"
    }
   ],
   "source": [
    "from sklearn.model_selection import train_test_split\n",
    "x_train,x_test,y_train,y_test = train_test_split(x_kbest,y,test_size=0.3,random_state=100)\n",
    "x_train.shape,x_test.shape,y_train.shape,y_test.shape"
   ]
  },
  {
   "cell_type": "code",
   "execution_count": 26,
   "id": "cec8aedd",
   "metadata": {},
   "outputs": [],
   "source": [
    "# logistic Regression Algorithm"
   ]
  },
  {
   "cell_type": "code",
   "execution_count": 27,
   "id": "a79e7455",
   "metadata": {},
   "outputs": [
    {
     "data": {
      "text/plain": [
       "0.800211044671122"
      ]
     },
     "execution_count": 27,
     "metadata": {},
     "output_type": "execute_result"
    }
   ],
   "source": [
    "from sklearn.linear_model import LogisticRegression\n",
    "LRmodel = LogisticRegression()\n",
    "LRmodel.fit(x_train,y_train)   \n",
    "LRmodel.score(x_train,y_train)"
   ]
  },
  {
   "cell_type": "code",
   "execution_count": 28,
   "id": "c52d6031",
   "metadata": {},
   "outputs": [
    {
     "data": {
      "text/plain": [
       "0.8031173092698933"
      ]
     },
     "execution_count": 28,
     "metadata": {},
     "output_type": "execute_result"
    }
   ],
   "source": [
    "y_pred1 = LRmodel.predict(x_train)\n",
    "y_pred2 = LRmodel.predict(x_test)\n",
    "accuracy_score(y_test,y_pred2)"
   ]
  },
  {
   "cell_type": "code",
   "execution_count": 29,
   "id": "bef8563b",
   "metadata": {},
   "outputs": [],
   "source": [
    "# Decision Tree Algorithm"
   ]
  },
  {
   "cell_type": "code",
   "execution_count": 30,
   "id": "5483d889",
   "metadata": {},
   "outputs": [
    {
     "data": {
      "text/plain": [
       "0.800211044671122"
      ]
     },
     "execution_count": 30,
     "metadata": {},
     "output_type": "execute_result"
    }
   ],
   "source": [
    "from sklearn.tree import DecisionTreeClassifier\n",
    "dtmodel= DecisionTreeClassifier(random_state=100)\n",
    "dtmodel.fit(x_train,y_train)\n",
    "dtmodel.score(x_train,y_train)"
   ]
  },
  {
   "cell_type": "code",
   "execution_count": 31,
   "id": "4679d9ce",
   "metadata": {},
   "outputs": [
    {
     "data": {
      "text/plain": [
       "0.8031173092698933"
      ]
     },
     "execution_count": 31,
     "metadata": {},
     "output_type": "execute_result"
    }
   ],
   "source": [
    "y_pred3 = dtmodel.predict(x_train)\n",
    "y_pred4 = dtmodel.predict(x_test)\n",
    "accuracy_score(y_test,y_pred4)"
   ]
  },
  {
   "cell_type": "code",
   "execution_count": 32,
   "id": "98fca789",
   "metadata": {},
   "outputs": [],
   "source": [
    "# KNeighborsClassifier"
   ]
  },
  {
   "cell_type": "code",
   "execution_count": 33,
   "id": "769ae284",
   "metadata": {},
   "outputs": [
    {
     "data": {
      "text/plain": [
       "0.7108688005627858"
      ]
     },
     "execution_count": 33,
     "metadata": {},
     "output_type": "execute_result"
    }
   ],
   "source": [
    "from sklearn.neighbors import KNeighborsClassifier\n",
    "knnmodel = KNeighborsClassifier()\n",
    "knnmodel.fit(x_train,y_train)\n",
    "knnmodel.score(x_train,y_train)"
   ]
  },
  {
   "cell_type": "code",
   "execution_count": 34,
   "id": "592d7aee",
   "metadata": {},
   "outputs": [
    {
     "data": {
      "text/plain": [
       "0.716160787530763"
      ]
     },
     "execution_count": 34,
     "metadata": {},
     "output_type": "execute_result"
    }
   ],
   "source": [
    "y_pred5 = knnmodel.predict(x_train)\n",
    "y_pred6 = knnmodel.predict(x_test)\n",
    "accuracy_score(y_test,y_pred6)"
   ]
  },
  {
   "cell_type": "code",
   "execution_count": 35,
   "id": "bed7c586",
   "metadata": {},
   "outputs": [],
   "source": [
    "# AdaBoost Algorithm"
   ]
  },
  {
   "cell_type": "code",
   "execution_count": 36,
   "id": "7cd14ebc",
   "metadata": {},
   "outputs": [
    {
     "data": {
      "text/plain": [
       "0.800211044671122"
      ]
     },
     "execution_count": 36,
     "metadata": {},
     "output_type": "execute_result"
    }
   ],
   "source": [
    "from sklearn.ensemble import AdaBoostClassifier\n",
    "adamodel = AdaBoostClassifier(random_state=100)\n",
    "adamodel.fit(x_train,y_train)\n",
    "adamodel.score(x_train,y_train)"
   ]
  },
  {
   "cell_type": "code",
   "execution_count": 37,
   "id": "14ff8bfd",
   "metadata": {},
   "outputs": [
    {
     "data": {
      "text/plain": [
       "0.8031173092698933"
      ]
     },
     "execution_count": 37,
     "metadata": {},
     "output_type": "execute_result"
    }
   ],
   "source": [
    "y_pred7 = adamodel.predict(x_train)\n",
    "y_pred8 = adamodel.predict(x_test)\n",
    "accuracy_score(y_test,y_pred8)"
   ]
  },
  {
   "cell_type": "code",
   "execution_count": 38,
   "id": "047e89e9",
   "metadata": {},
   "outputs": [],
   "source": [
    "# SVM algorithm"
   ]
  },
  {
   "cell_type": "code",
   "execution_count": 39,
   "id": "3fdc7af8",
   "metadata": {},
   "outputs": [
    {
     "data": {
      "text/plain": [
       "0.800211044671122"
      ]
     },
     "execution_count": 39,
     "metadata": {},
     "output_type": "execute_result"
    }
   ],
   "source": [
    "from sklearn.svm import SVC\n",
    "svmmodel = SVC(random_state=100)\n",
    "svmmodel.fit(x_train,y_train)\n",
    "svmmodel.score(x_train,y_train)"
   ]
  },
  {
   "cell_type": "code",
   "execution_count": 40,
   "id": "1b2ebedb",
   "metadata": {},
   "outputs": [
    {
     "data": {
      "text/plain": [
       "0.8031173092698933"
      ]
     },
     "execution_count": 40,
     "metadata": {},
     "output_type": "execute_result"
    }
   ],
   "source": [
    "y_pred9 = svmmodel.predict(x_train)\n",
    "y_pred10= svmmodel.predict(x_test)\n",
    "accuracy_score(y_test,y_pred10)"
   ]
  },
  {
   "cell_type": "markdown",
   "id": "c34c0ad5",
   "metadata": {},
   "source": [
    "### Feature selected by PCA"
   ]
  },
  {
   "cell_type": "code",
   "execution_count": 41,
   "id": "d31b7229",
   "metadata": {},
   "outputs": [
    {
     "data": {
      "text/plain": [
       "((5686, 20), (2438, 20), (5686,), (2438,))"
      ]
     },
     "execution_count": 41,
     "metadata": {},
     "output_type": "execute_result"
    }
   ],
   "source": [
    "from sklearn.model_selection import train_test_split\n",
    "x_train,x_test,y_train,y_test = train_test_split(x_pca,y,test_size=0.3,random_state=100)\n",
    "x_train.shape,x_test.shape,y_train.shape,y_test.shape"
   ]
  },
  {
   "cell_type": "code",
   "execution_count": 42,
   "id": "9105fa75",
   "metadata": {},
   "outputs": [
    {
     "data": {
      "text/plain": [
       "0.800211044671122"
      ]
     },
     "execution_count": 42,
     "metadata": {},
     "output_type": "execute_result"
    }
   ],
   "source": [
    "from sklearn.linear_model import LogisticRegression\n",
    "LRmodel = LogisticRegression()\n",
    "LRmodel.fit(x_train,y_train)   \n",
    "LRmodel.score(x_train,y_train)"
   ]
  },
  {
   "cell_type": "code",
   "execution_count": 43,
   "id": "c779102b",
   "metadata": {},
   "outputs": [
    {
     "data": {
      "text/plain": [
       "0.8031173092698933"
      ]
     },
     "execution_count": 43,
     "metadata": {},
     "output_type": "execute_result"
    }
   ],
   "source": [
    "y_pred = LRmodel.predict(x_test)\n",
    "accuracy_score(y_test,y_pred)"
   ]
  },
  {
   "cell_type": "code",
   "execution_count": 44,
   "id": "ba2d300a",
   "metadata": {},
   "outputs": [
    {
     "data": {
      "text/plain": [
       "0.48804080196975025"
      ]
     },
     "execution_count": 44,
     "metadata": {},
     "output_type": "execute_result"
    }
   ],
   "source": [
    "from sklearn.neighbors import KNeighborsClassifier\n",
    "knnmodel = KNeighborsClassifier()\n",
    "knnmodel.fit(x_train,y_train)\n",
    "knnmodel.score(x_train,y_train)"
   ]
  },
  {
   "cell_type": "code",
   "execution_count": 45,
   "id": "f3242ccc",
   "metadata": {},
   "outputs": [
    {
     "data": {
      "text/plain": [
       "0.49056603773584906"
      ]
     },
     "execution_count": 45,
     "metadata": {},
     "output_type": "execute_result"
    }
   ],
   "source": [
    "y_pred = knnmodel.predict(x_test)\n",
    "accuracy_score(y_test,y_pred)"
   ]
  },
  {
   "cell_type": "code",
   "execution_count": 46,
   "id": "396f8de3",
   "metadata": {},
   "outputs": [
    {
     "data": {
      "text/plain": [
       "0.800211044671122"
      ]
     },
     "execution_count": 46,
     "metadata": {},
     "output_type": "execute_result"
    }
   ],
   "source": [
    "from sklearn.tree import DecisionTreeClassifier\n",
    "dtmodel= DecisionTreeClassifier(random_state=100)\n",
    "dtmodel.fit(x_train,y_train)\n",
    "dtmodel.score(x_train,y_train)"
   ]
  },
  {
   "cell_type": "code",
   "execution_count": 47,
   "id": "7857546e",
   "metadata": {},
   "outputs": [
    {
     "data": {
      "text/plain": [
       "0.8031173092698933"
      ]
     },
     "execution_count": 47,
     "metadata": {},
     "output_type": "execute_result"
    }
   ],
   "source": [
    "y_pred = dtmodel.predict(x_test)\n",
    "accuracy_score(y_test,y_pred)"
   ]
  },
  {
   "cell_type": "code",
   "execution_count": 48,
   "id": "e95f38c0",
   "metadata": {},
   "outputs": [
    {
     "data": {
      "text/plain": [
       "0.800211044671122"
      ]
     },
     "execution_count": 48,
     "metadata": {},
     "output_type": "execute_result"
    }
   ],
   "source": [
    "from sklearn.svm import SVC\n",
    "svmmodel = SVC(random_state=100)\n",
    "svmmodel.fit(x_train,y_train)\n",
    "svmmodel.score(x_train,y_train)"
   ]
  },
  {
   "cell_type": "code",
   "execution_count": 49,
   "id": "ba3d8468",
   "metadata": {},
   "outputs": [
    {
     "data": {
      "text/plain": [
       "0.8031173092698933"
      ]
     },
     "execution_count": 49,
     "metadata": {},
     "output_type": "execute_result"
    }
   ],
   "source": [
    "y_pred = svmmodel.predict(x_test)\n",
    "accuracy_score(y_test,y_pred)"
   ]
  },
  {
   "cell_type": "markdown",
   "id": "063c8bf2",
   "metadata": {},
   "source": [
    "### Conclusion-"
   ]
  },
  {
   "cell_type": "markdown",
   "id": "84f4f256",
   "metadata": {},
   "source": [
    "+ Logistic Regression/ Decision Tree/ svm / AdaBoost algorithm gives accuracy near about 80 percent,\n",
    "+ Accuracy in training the model and testing the model is nearly same, means model is balance fit(low variance,low bias)\n",
    "+ Feature selected by 2 ways, but accuracy for both are same,means extracted features are nearby same\n",
    "+ Low accuracy in clustering, feature selected by mutual info classifier given better accuracy than PCA "
   ]
  },
  {
   "cell_type": "code",
   "execution_count": 69,
   "id": "4c2192b3",
   "metadata": {},
   "outputs": [
    {
     "data": {
      "text/plain": [
       "((5686, 4), (5686,))"
      ]
     },
     "execution_count": 69,
     "metadata": {},
     "output_type": "execute_result"
    }
   ],
   "source": [
    "train_prediction={'LR':y_pred1,'DT':y_pred3,'KNN':y_pred5,'SVM':y_pred9}\n",
    "train_prediction = pd.DataFrame(train_prediction)\n",
    "train_prediction.shape, y_train.shape"
   ]
  },
  {
   "cell_type": "code",
   "execution_count": 70,
   "id": "82b6bb39",
   "metadata": {},
   "outputs": [
    {
     "data": {
      "text/html": [
       "<div>\n",
       "<style scoped>\n",
       "    .dataframe tbody tr th:only-of-type {\n",
       "        vertical-align: middle;\n",
       "    }\n",
       "\n",
       "    .dataframe tbody tr th {\n",
       "        vertical-align: top;\n",
       "    }\n",
       "\n",
       "    .dataframe thead th {\n",
       "        text-align: right;\n",
       "    }\n",
       "</style>\n",
       "<table border=\"1\" class=\"dataframe\">\n",
       "  <thead>\n",
       "    <tr style=\"text-align: right;\">\n",
       "      <th></th>\n",
       "      <th>LR</th>\n",
       "      <th>DT</th>\n",
       "      <th>KNN</th>\n",
       "      <th>SVM</th>\n",
       "    </tr>\n",
       "  </thead>\n",
       "  <tbody>\n",
       "    <tr>\n",
       "      <th>0</th>\n",
       "      <td>0</td>\n",
       "      <td>0</td>\n",
       "      <td>0</td>\n",
       "      <td>0</td>\n",
       "    </tr>\n",
       "    <tr>\n",
       "      <th>1</th>\n",
       "      <td>0</td>\n",
       "      <td>0</td>\n",
       "      <td>0</td>\n",
       "      <td>0</td>\n",
       "    </tr>\n",
       "    <tr>\n",
       "      <th>2</th>\n",
       "      <td>0</td>\n",
       "      <td>0</td>\n",
       "      <td>0</td>\n",
       "      <td>0</td>\n",
       "    </tr>\n",
       "    <tr>\n",
       "      <th>3</th>\n",
       "      <td>0</td>\n",
       "      <td>0</td>\n",
       "      <td>0</td>\n",
       "      <td>0</td>\n",
       "    </tr>\n",
       "    <tr>\n",
       "      <th>4</th>\n",
       "      <td>0</td>\n",
       "      <td>0</td>\n",
       "      <td>0</td>\n",
       "      <td>0</td>\n",
       "    </tr>\n",
       "  </tbody>\n",
       "</table>\n",
       "</div>"
      ],
      "text/plain": [
       "   LR  DT  KNN  SVM\n",
       "0   0   0    0    0\n",
       "1   0   0    0    0\n",
       "2   0   0    0    0\n",
       "3   0   0    0    0\n",
       "4   0   0    0    0"
      ]
     },
     "execution_count": 70,
     "metadata": {},
     "output_type": "execute_result"
    }
   ],
   "source": [
    "test_prediction={'LR':y_pred2,'DT':y_pred4,'KNN':y_pred6,'SVM':y_pred10}\n",
    "test_prediction = pd.DataFrame(test_prediction)\n",
    "test_prediction.head()"
   ]
  },
  {
   "cell_type": "code",
   "execution_count": 72,
   "id": "aa0a334a",
   "metadata": {},
   "outputs": [
    {
     "data": {
      "text/plain": [
       "0.800211044671122"
      ]
     },
     "execution_count": 72,
     "metadata": {},
     "output_type": "execute_result"
    }
   ],
   "source": [
    "# stacker model\n",
    "smodel = AdaBoostClassifier(random_state=100)\n",
    "smodel.fit(train_prediction,y_train)\n",
    "smodel.score(train_prediction,y_train)"
   ]
  },
  {
   "cell_type": "code",
   "execution_count": 73,
   "id": "f32a7922",
   "metadata": {},
   "outputs": [
    {
     "data": {
      "text/plain": [
       "0.8031173092698933"
      ]
     },
     "execution_count": 73,
     "metadata": {},
     "output_type": "execute_result"
    }
   ],
   "source": [
    "smodel.score(test_prediction,y_test)"
   ]
  },
  {
   "cell_type": "code",
   "execution_count": null,
   "id": "06799080",
   "metadata": {},
   "outputs": [],
   "source": []
  }
 ],
 "metadata": {
  "kernelspec": {
   "display_name": "Python 3",
   "language": "python",
   "name": "python3"
  },
  "language_info": {
   "codemirror_mode": {
    "name": "ipython",
    "version": 3
   },
   "file_extension": ".py",
   "mimetype": "text/x-python",
   "name": "python",
   "nbconvert_exporter": "python",
   "pygments_lexer": "ipython3",
   "version": "3.8.8"
  }
 },
 "nbformat": 4,
 "nbformat_minor": 5
}
